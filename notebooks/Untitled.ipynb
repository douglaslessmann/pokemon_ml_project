{
 "cells": [
  {
   "cell_type": "code",
   "execution_count": 26,
   "id": "8540fb58",
   "metadata": {},
   "outputs": [],
   "source": [
    "import pandas as pd"
   ]
  },
  {
   "cell_type": "code",
   "execution_count": 37,
   "id": "c1879adc",
   "metadata": {},
   "outputs": [],
   "source": [
    "info_API = {\n",
    "        'base_total': 250.0,\n",
    "        'attack': 50.0,\n",
    "        'defense': 40.0,\n",
    "        'hp': 50.0,\n",
    "        'sp_attack': 30.0,\n",
    "        'sp_defense': 30.0,\n",
    "        'speed': 50.0,\n",
    "        'height_m': 0.4,\n",
    "        'weight_kg': 6.5,\n",
    "        'number_of_abilities': 3.0,\n",
    "        'is_female': 0.0,\n",
    "        'against_bug': 1.0,\n",
    "        'against_dark': 1.0,\n",
    "        'against_dragon': 1.0,\n",
    "        'against_electric': 0.0,\n",
    "        'against_fairy': 1.0,\n",
    "        'against_fight': 2.0,\n",
    "        'against_fire': 2.0,\n",
    "        'against_flying': 1.0,\n",
    "        'against_ghost': 1.0,\n",
    "        'against_grass': 2.0,\n",
    "        'against_ground': 1.0,\n",
    "        'against_ice': 1.0,\n",
    "        'against_normal': 1.0,\n",
    "        'against_poison': 0.5,\n",
    "        'against_psychic': 1.0,\n",
    "        'against_rock': 1.0,\n",
    "        'against_steel': 2.0,\n",
    "        'against_water': 2.0\n",
    "    }"
   ]
  },
  {
   "cell_type": "code",
   "execution_count": 41,
   "id": "0b62709c",
   "metadata": {},
   "outputs": [
    {
     "name": "stdout",
     "output_type": "stream",
     "text": [
      "2021-11-03 12:54:10,417 - kedro.io.data_catalog - INFO - Loading data from `primary_type_classifier` (MlflowPickleDataSet)...\n",
      "2021-11-03 12:54:10,444 - kedro.io.data_catalog - INFO - Loading data from `label_encoder` (PickleDataSet)...\n"
     ]
    }
   ],
   "source": [
    "classifier_model = catalog.load('primary_type_classifier')\n",
    "label_encoder = catalog.load('label_encoder')"
   ]
  },
  {
   "cell_type": "code",
   "execution_count": 42,
   "id": "849d4e3f",
   "metadata": {},
   "outputs": [],
   "source": [
    "args = info_API\n",
    "\n",
    "df_args = pd.DataFrame({k: [v] for k, v in args.items()})\n",
    "\n",
    "class_prediction = classifier_model.predict(df_args)\n",
    "\n",
    "class_prediction_str = label_encoder.inverse_transform(class_prediction)"
   ]
  },
  {
   "cell_type": "code",
   "execution_count": 44,
   "id": "9f433f65",
   "metadata": {},
   "outputs": [
    {
     "data": {
      "text/plain": [
       "'rock'"
      ]
     },
     "execution_count": 44,
     "metadata": {},
     "output_type": "execute_result"
    }
   ],
   "source": [
    "class_prediction_str[0]"
   ]
  },
  {
   "cell_type": "code",
   "execution_count": null,
   "id": "47962d5a",
   "metadata": {},
   "outputs": [],
   "source": []
  }
 ],
 "metadata": {
  "kernelspec": {
   "display_name": "pokemon_ml_project",
   "language": "python",
   "name": "python3"
  },
  "language_info": {
   "codemirror_mode": {
    "name": "ipython",
    "version": 3
   },
   "file_extension": ".py",
   "mimetype": "text/x-python",
   "name": "python",
   "nbconvert_exporter": "python",
   "pygments_lexer": "ipython3",
   "version": "3.8.10"
  }
 },
 "nbformat": 4,
 "nbformat_minor": 5
}
